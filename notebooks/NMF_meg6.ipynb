{
 "cells": [
  {
   "cell_type": "markdown",
   "metadata": {},
   "source": [
    "# Working with MEG dataset\n",
    "MEG dataset from THINGS initiative: https://openneuro.org/datasets/ds004212/versions/2.0.1\n",
    "### Training data partition\n",
    "The data is .fif file which needs to be converted into a rather easy to use .npy array.\n",
    "We will use mne library for this: https://mne.tools/dev/index.html \n"
   ]
  },
  {
   "cell_type": "markdown",
   "metadata": {},
   "source": [
    "We collected extensively sampled object representations using magnetoencephalography (MEG). To this end, we drew on the THINGS database (Hebart et al., 2019), a richly-annotated database of 1,854 object concepts representative of the American English language which contains 26,107 manually-curated naturalistic object images."
   ]
  },
  {
   "cell_type": "markdown",
   "metadata": {},
   "source": [
    "ERP = event-related potential; signal with respect to some event\n",
    "VEP = ERP for visual stimuli\n",
    "\n"
   ]
  },
  {
   "cell_type": "markdown",
   "metadata": {},
   "source": [
    "27084 events, 281 time points, 271 channels"
   ]
  },
  {
   "cell_type": "markdown",
   "metadata": {},
   "source": [
    "## Here we perform NMF experiements. And data matrix as concepts x channes*time\n",
    "\n",
    "Create clusters of decomposed time components of meg data over multiple seeds.\n",
    "First time proper implementation of H and W consensus!\n"
   ]
  },
  {
   "cell_type": "code",
   "execution_count": 1,
   "metadata": {},
   "outputs": [],
   "source": [
    "import numpy as np # type: ignore\n",
    "import mne, os # type: ignore\n",
    "import matplotlib.pyplot as plt # type: ignore\n",
    "import pandas as pd # type: ignore\n",
    "from tqdm import tqdm # type: ignore\n",
    "import matplotlib.image as mpimg # type: ignore\n",
    "import nimfa # type: ignore\n",
    "import scipy.stats as st # type: ignore\n",
    "from sklearn.cluster import KMeans # type: ignore\n",
    "from sklearn.decomposition import NMF # type: ignore\n",
    "from scipy.spatial.distance import cdist # type: ignore\n",
    "from scipy.optimize import nnls  # type: ignore     \n",
    "from sklearn.linear_model import LinearRegression # type: ignore"
   ]
  },
  {
   "cell_type": "markdown",
   "metadata": {},
   "source": [
    "### Functions"
   ]
  },
  {
   "cell_type": "code",
   "execution_count": 2,
   "metadata": {},
   "outputs": [],
   "source": [
    "def compute_log_likelihood(V: np.ndarray, W: np.ndarray, H: np.ndarray):\n",
    "    \"\"\"Compute log-likelihood.\"\"\"\n",
    "    V_hat = np.dot(W, H)\n",
    "    err_std_dev = np.sqrt(np.var(V - V_hat))\n",
    "    log_likelihood = st.norm.logpdf(V, loc=V_hat, scale=err_std_dev).sum()\n",
    "    return log_likelihood\n",
    "\n",
    "def compute_aic(V: np.ndarray, W: np.ndarray, H: np.ndarray):\n",
    "    \"\"\"Compute AIC.\"\"\"\n",
    "    log_likelihood = compute_log_likelihood(V, W, H)\n",
    "    n_free_params = np.count_nonzero(W) + np.count_nonzero(H) + 1\n",
    "    aic = 2 * n_free_params - 2 * log_likelihood\n",
    "    return aic, n_free_params\n",
    "\n",
    "def compute_bic(V: np.ndarray, W: np.ndarray, H: np.ndarray):\n",
    "    \"\"\"Compute BIC.\"\"\"\n",
    "    log_likelihood = compute_log_likelihood(V, W, H)\n",
    "    I, J = V.shape\n",
    "    n_samples = I * J\n",
    "    n_free_params = np.count_nonzero(W) + np.count_nonzero(H) + 1\n",
    "    bic = np.log(n_samples) * n_free_params - 2 * log_likelihood\n",
    "    return bic\n",
    "\n",
    "def fit_bnmf(V: np.ndarray, k: int):\n",
    "    bnmf = nimfa.Bd(V, seed='random_c', rank=k, max_iter=500, min_residuals=1e-4, alpha=np.zeros((V.shape[0], k)),\n",
    "                        beta=np.zeros((k, V.shape[1])), theta=.0, k=.0, sigma=1., skip=100, stride=1,\n",
    "                        n_w=np.zeros((k, 1)), n_h=np.zeros((k, 1)), n_run=1, n_sigma=False)\n",
    "    bnmf_fit = bnmf()\n",
    "    W = bnmf_fit.basis()\n",
    "    H = bnmf_fit.coef()\n",
    "    return np.array(W), np.array(H)\n",
    "\n",
    "def compute_evar_all(V: np.ndarray, W: np.ndarray, H: np.ndarray):\n",
    "    V_hat = np.dot(W, H)\n",
    "    rss = np.sum(np.asarray(V_hat - V)**2)\n",
    "    evar_all = 1. - rss / (V*V).sum()\n",
    "    return evar_all\n",
    "\n",
    "def compute_evar_indiv(V: np.ndarray, W: np.ndarray, H: np.ndarray, d: int):\n",
    "    V_hat_d = np.outer(W[:, d], H[d, :])\n",
    "    rss = np.sum(np.asarray(V_hat_d - V)**2)\n",
    "    evar_indiv = 1. - rss / (V*V).sum()\n",
    "    return evar_indiv\n",
    "\n",
    "def compute_evar_unique(V: np.ndarray, W: np.ndarray, H: np.ndarray, d: int, evar_all: float):\n",
    "    V_hat_wo_d = np.dot(W[:, np.arange(W.shape[1]) != d], H[np.arange(H.shape[0]) != d, :])\n",
    "    rss = np.sum(np.asarray(V_hat_wo_d - V)**2)\n",
    "    evar_rest = 1. - rss / (V*V).sum()\n",
    "    evar_unique = evar_all - evar_rest\n",
    "    return evar_unique\n",
    "\n",
    "def load_epochs(preproc_dir,all_epochs = []):\n",
    "    for p in range(1,n_participants+1):\n",
    "        epochs = mne.read_epochs(f'{preproc_dir}/preprocessed_P{str(p)}-epo.fif', preload=False)\n",
    "        all_epochs.append(epochs)\n",
    "    return all_epochs\n",
    "\n",
    "def plot_erfs(epochs,n_sessions,name):\n",
    "    ctf_layout = mne.find_layout(epochs.info)\n",
    "    picks_epochs = [epochs.ch_names[i] for i in np.where([s[2]==name for s in epochs.ch_names])[0]]\n",
    "    picks = np.where([i[2]==name for i in ctf_layout.names])[0]\n",
    "    plt.figure(figsize=(10,5))\n",
    "    # get evoked data\n",
    "    for s in range(n_sessions):    \n",
    "        evoked = epochs[(epochs.metadata['trial_type']=='test') & (epochs.metadata['session_nr']==s+1)].average()\n",
    "        evoked.pick_channels(ch_names=picks_epochs)\n",
    "        # plt.plot(epochs.times*1000,np.mean(evoked.data.T,axis=1),lw=0.5,alpha=0.4)\n",
    "    evoked = epochs[(epochs.metadata['trial_type']=='test')].average()\n",
    "    evoked.pick_channels(ch_names=picks_epochs)\n",
    "\n",
    "    # plot ERFs for selected sensor group\n",
    "    \n",
    "    plt.plot(epochs.times*1000,np.mean(evoked.data.T,axis=1),lw=1)\n",
    "    plt.xlim([epochs.times[0]*1000,epochs.times[len(epochs.times)-1]*1000])\n",
    "    plt.ylim([-0.6,0.6])\n",
    "    plt.xlabel('Time (ms)')\n",
    "    plt.ylabel('Amplitude (uV)')  \n",
    "    plt.title(f'ERFs for {name}')\n",
    "    plt.show()  \n",
    "\n",
    "def consensus_nmf(X, n_components=5, n_replicates=10, p=0.3, tau=0.1, random_state=0):\n",
    "    \"\"\"\n",
    "    Perform consensus NMF on non-negative data matrix X.\n",
    "    \n",
    "    Parameters:\n",
    "    -----------\n",
    "    X : array-like of shape (N, M)\n",
    "        Non-negative data. Example: N=26000 stimuli, M=271*300 (flattened sensors x time).\n",
    "    n_components : int\n",
    "        Number of components K in the factorization and final consensus.\n",
    "    n_replicates : int\n",
    "        How many times to run NMF with different random seeds.\n",
    "    p : float\n",
    "        Fraction that determines how many nearest neighbors to consider (L = p * R).\n",
    "    tau : float\n",
    "        Distance threshold for outlier filtering.\n",
    "    random_state : int\n",
    "        Random seed base.\n",
    "    \n",
    "    Returns:\n",
    "    --------\n",
    "    H_c : array-like, shape (K, M)\n",
    "        Consensus components (space-time patterns).\n",
    "    W_c : array-like, shape (N, K)\n",
    "        Final usage matrix for each of the N stimuli.\n",
    "    \"\"\"\n",
    "    \n",
    "    N, M = X.shape\n",
    "    K = n_components\n",
    "    \n",
    "    # 1) Multiple NMF replicates\n",
    "    nmf_models = []\n",
    "    for r in range(n_replicates):\n",
    "        nmf = NMF(n_components=K, init='random', max_iter=800,\n",
    "                  random_state=(random_state + r))\n",
    "        W_r = nmf.fit_transform(X)\n",
    "        H_r = nmf.components_  # shape (K, M)\n",
    "        nmf_models.append((W_r, H_r))\n",
    "    \n",
    "    # 2) Normalize each component row (L2) and concatenate\n",
    "    all_components = []\n",
    "    for r in range(n_replicates):\n",
    "        W_r, H_r = nmf_models[r]\n",
    "        # L2-normalize each row in H_r\n",
    "        H_r_norm = H_r / (np.linalg.norm(H_r, axis=1, keepdims=True) + 1e-12)\n",
    "        all_components.append(H_r_norm)\n",
    "    H_all = np.vstack(all_components)  # shape (R*K, M)\n",
    "    print(f\"H_all shape after vstack: {H_all.shape}\")\n",
    "    \n",
    "    # 3) Outlier Filtering\n",
    "    #   L = p * R  (the user must ensure L is an integer, or round it)\n",
    "    # L = int(np.ceil(p * n_replicates))\n",
    "    \n",
    "    # # For each row of H_all, find distance to its L nearest neighbors:\n",
    "    # distances = cdist(H_all, H_all, metric='euclidean')\n",
    "    # # sort distances for each row, exclude the row itself at index 0\n",
    "    # sorted_dists = np.sort(distances, axis=1)[:, 1:]  # skip distance to itself\n",
    "    # mean_L = np.mean(sorted_dists[:, :L], axis=1)     # average distance among L nearest\n",
    "    # # keep those with mean_L < tau\n",
    "    # keep_mask = mean_L < tau\n",
    "    H_filt = H_all[:]\n",
    "    \n",
    "    # 4) KMeans cluster the filtered components\n",
    "    kmeans = KMeans(n_clusters=K, random_state=random_state)\n",
    "    cluster_labels = kmeans.fit_predict(H_filt)\n",
    "    print(cluster_labels.shape) \n",
    "    print(f\"cluster_labels: {cluster_labels}\")      \n",
    "    \n",
    "    # 5) For each cluster, take the median\n",
    "    H_c = np.zeros((K, M))\n",
    "    for k in range(K):\n",
    "        cluster_rows = H_filt[cluster_labels == k]\n",
    "        if len(cluster_rows) > 0:\n",
    "            print(f\"np.median(cluster_rows, axis=0) shape: {np.median(cluster_rows, axis=0).shape}\")    \n",
    "            H_c[k] = np.median(cluster_rows, axis=0)\n",
    "        else:\n",
    "            # If a cluster is empty, handle gracefully (e.g. use kmeans cluster center)\n",
    "            H_c[k] = kmeans.cluster_centers_[k]\n",
    "    \n",
    "    # Optionally, L1-normalize each consensus row for interpretability\n",
    "    H_c = H_c / (np.sum(H_c, axis=1, keepdims=True) + 1e-12)\n",
    "    \n",
    "    # 6) Final usage fit: fix H_c, solve for W_c >= 0\n",
    "    #    We can do it by NMF with init='custom', or by non-negative least squares.\n",
    "    #    For brevity, here's a quick approach reusing NMF with fix_components style:\n",
    "    nmf_final = NMF(n_components=K, init='random', max_iter=200, random_state=random_state)\n",
    "    # We'll set H_c as the init for nmf.components_ and disallow updates to it.\n",
    "    nmf_final.components_ = H_c.copy()  # shape (K, M)\n",
    "    # scikit-learn doesn't have a built-in \"freeze components\" option, so we do partial fit:\n",
    "    # We'll just do transform with non-negative least squares on each row of X.\n",
    "    \n",
    "    # W_c shape: (N, K)\n",
    "    from sklearn.linear_model import LinearRegression\n",
    "    W_c = np.zeros((N, K))\n",
    "    for i in range(N):\n",
    "        # Solve  min_{u>=0} || X[i,:] - u * H_c ||^2\n",
    "        # H_c is (K, M), X[i,:] is (M,)\n",
    "        # This is a standard non-negative LS problem. We can do a quick non-negative solve:\n",
    "        # For simplicity, we'll do a positivity hack with SciPy or a bigger approach. Let’s do a naive loop:\n",
    "        \n",
    "        # OPTIONAL: from scipy.optimize import nnls\n",
    "        # u_i, _ = nnls(H_c.T, X[i,:])\n",
    "        # W_c[i,:] = u_i\n",
    "        # (But let’s just do that if SciPy is allowed. If not, we do an unconstrained solve then clip.)\n",
    "        \n",
    "        # Wnconstrained LS:\n",
    "        reg = LinearRegression(fit_intercept=False)\n",
    "        reg.fit(H_c.T, X[i,:])\n",
    "        u_pred = reg.coef_\n",
    "        # Clip negative to 0:\n",
    "        u_pred[u_pred < 0] = 0\n",
    "        W_c[i,:] = u_pred\n",
    "    \n",
    "    # Finally, normalize each row of W_c so usage sums to 1 across components (if desired)\n",
    "    row_sums = np.sum(W_c, axis=1, keepdims=True)\n",
    "    row_sums[row_sums == 0] = 1.0  # avoid division by zero\n",
    "    W_c = W_c / row_sums\n",
    "    \n",
    "    return W_c, H_c\n",
    "\n"
   ]
  },
  {
   "cell_type": "code",
   "execution_count": 3,
   "metadata": {},
   "outputs": [],
   "source": [
    "def consensus_nmf_W(X, n_components=5, n_replicates=10, p=0.3, tau=0.1, random_state=0, bayesian = False):\n",
    "    \"\"\"\n",
    "    Perform consensus NMF with clustering on W instead of H.\n",
    "    \"\"\"\n",
    "    N, M = X.shape\n",
    "    K = n_components\n",
    "    \n",
    "    # 1) Multiple NMF replicates\n",
    "    nmf_models = []\n",
    "    for r in range(n_replicates):\n",
    "        if bayesian:\n",
    "            W_r, H_r = fit_bnmf(X, K)\n",
    "        else:\n",
    "            nmf = NMF(n_components=K, init='random', max_iter=800, random_state=(random_state + r))\n",
    "            W_r = nmf.fit_transform(X)  # shape (N, K)\n",
    "            H_r = nmf.components_  # shape (K, M)\n",
    "        # print(f\"W_r shape: {W_r.shape}, H_r shape: {H_r.shape}\")    \n",
    "        nmf_models.append((W_r, H_r))\n",
    "    \n",
    "    # 2) Normalize each W_r row (L2) and concatenate\n",
    "    all_W = np.hstack([W_r / (np.linalg.norm(W_r, axis=1, keepdims=True) + 1e-12) for W_r, _ in nmf_models])\n",
    "    # print(f\"all_W shape after v stack: {all_W.shape}\")\n",
    "    # # 3) Outlier Filtering on W\n",
    "    # L = int(np.ceil(p * n_replicates))\n",
    "    # distances = cdist(all_W, all_W, metric='euclidean')\n",
    "    # sorted_dists = np.sort(distances, axis=1)[:, 1:L+1]  # Exclude self-distance\n",
    "    # mean_L = np.mean(sorted_dists, axis=1)\n",
    "    # keep_mask = mean_L < tau\n",
    "    W_filt = all_W[:]\n",
    "    \n",
    "    # 4) KMeans clustering on W_filt\n",
    "    kmeans = KMeans(n_clusters=K, random_state=random_state)\n",
    "    cluster_labels = kmeans.fit_predict(W_filt.T)\n",
    "    # print(f\"cluster_labels shape: {cluster_labels.shape}\")\n",
    "    # 5) Compute consensus W_c as cluster medians\n",
    "    W_c = np.zeros((N, K))\n",
    "    mean_correlations = []\n",
    "    for k in range(K):\n",
    "        cluster_rows = W_filt.T[cluster_labels == k]\n",
    "        nos = cluster_rows.shape[0]\n",
    "        correlations = []\n",
    "        if nos == 0:\n",
    "            mean_correlations.append(-1)\n",
    "            print(f\"k = {k} Empty cluster\")\n",
    "        elif nos == 1:\n",
    "            mean_correlations.append(0)\n",
    "            print(f\"k = {k} Singleton cluster\")\n",
    "        else:\n",
    "            # Compute correlation for each unique pair of rows\n",
    "            for i in range(nos):\n",
    "                for j in range(i + 1, nos):  # Ensure each pair is only considered once\n",
    "                    corr = np.corrcoef(cluster_rows[i], cluster_rows[j])[0, 1]\n",
    "                    # print(corr)\n",
    "                    correlations.append(corr)\n",
    "\n",
    "            # Compute mean of pairwise correlations\n",
    "            mean_correlation = np.mean(correlations)\n",
    "            mean_correlations.append(mean_correlation)\n",
    "            print(f\"k = {k} Mean pairwise correlation: {mean_correlation}\")\n",
    "        \n",
    "        if len(cluster_rows) > 0:\n",
    "            # print(f\"median shape: {np.median(cluster_rows, axis=0).shape}\")\n",
    "            W_c[:, k] = np.median(cluster_rows, axis=0)\n",
    "        else:\n",
    "            W_c[:, k] = kmeans.cluster_centers_[k]\n",
    "\n",
    "    \n",
    "    # Normalize W_c so rows sum to 1\n",
    "    W_c = W_c / (np.sum(W_c, axis=1, keepdims=True) + 1e-12)\n",
    "    # print(f\"final W_c shape: {W_c.shape}\")\n",
    "    \n",
    "    # 6) Solve for H_c using linear regression\n",
    "    H_c = np.zeros((K, M))\n",
    "    # for k in range(K):\n",
    "    reg = LinearRegression(fit_intercept=False)\n",
    "    reg.fit(W_c, X)\n",
    "    # print(f\"coef k shape: {reg.coef_.shape}\") \n",
    "    H_c = reg.coef_.T\n",
    "    \n",
    "    return W_c, H_c, mean_correlations"
   ]
  },
  {
   "cell_type": "code",
   "execution_count": 4,
   "metadata": {},
   "outputs": [],
   "source": [
    "channel_picks = ['O','T','P'] \n",
    "preproc_dir = '../data/preprocessed'\n",
    "image_dir = '../data/'\n",
    "\n",
    "time_window = [0 , 0.8] # in seconds\n",
    "n_participants = 4 # total number of participants\n",
    "participant_no = 2 # participant number 0 - 3\n",
    "images_to_show = 20\n",
    "nmf_components = 20\n",
    "random_state = 0\n",
    "nos_seeds = 5\n",
    "BAYESIAN = True\n",
    "\n",
    "NOS_CONCEPTS = 1854\n",
    "NOS_IMAGE_PER_CONCEPT = 12\n",
    "NOS_TIME_POINTS = 281\n",
    "OPTICAL_CHANNELS = True # False if all channels are used"
   ]
  },
  {
   "cell_type": "code",
   "execution_count": 5,
   "metadata": {},
   "outputs": [
    {
     "name": "stdout",
     "output_type": "stream",
     "text": [
      "Reading /home/atharvsagar/Documents/Neural-Representations-using-Things-Database/notebooks/../data/preprocessed/preprocessed_P1-epo.fif ...\n"
     ]
    },
    {
     "name": "stdout",
     "output_type": "stream",
     "text": [
      "    Found the data of interest:\n",
      "        t =    -100.00 ...    1300.00 ms\n",
      "        0 CTF compensation matrices available\n",
      "Reading /home/atharvsagar/Documents/Neural-Representations-using-Things-Database/notebooks/../data/preprocessed/preprocessed_P1-epo.fif ...\n",
      "    Found the data of interest:\n",
      "        t =    -100.00 ...    1300.00 ms\n",
      "        0 CTF compensation matrices available\n",
      "Reading /home/atharvsagar/Documents/Neural-Representations-using-Things-Database/notebooks/../data/preprocessed/preprocessed_P1-epo.fif ...\n",
      "    Found the data of interest:\n",
      "        t =    -100.00 ...    1300.00 ms\n",
      "        0 CTF compensation matrices available\n",
      "Reading /home/atharvsagar/Documents/Neural-Representations-using-Things-Database/notebooks/../data/preprocessed/preprocessed_P1-epo.fif ...\n",
      "    Found the data of interest:\n",
      "        t =    -100.00 ...    1300.00 ms\n",
      "        0 CTF compensation matrices available\n",
      "Adding metadata with 18 columns\n",
      "27048 matching events found\n",
      "No baseline correction applied\n",
      "0 projection items activated\n",
      "Reading /home/atharvsagar/Documents/Neural-Representations-using-Things-Database/notebooks/../data/preprocessed/preprocessed_P2-epo.fif ...\n",
      "    Found the data of interest:\n",
      "        t =    -100.00 ...    1300.00 ms\n",
      "        0 CTF compensation matrices available\n",
      "Reading /home/atharvsagar/Documents/Neural-Representations-using-Things-Database/notebooks/../data/preprocessed/preprocessed_P2-epo.fif ...\n",
      "    Found the data of interest:\n",
      "        t =    -100.00 ...    1300.00 ms\n",
      "        0 CTF compensation matrices available\n",
      "Reading /home/atharvsagar/Documents/Neural-Representations-using-Things-Database/notebooks/../data/preprocessed/preprocessed_P2-epo.fif ...\n",
      "    Found the data of interest:\n",
      "        t =    -100.00 ...    1300.00 ms\n",
      "        0 CTF compensation matrices available\n",
      "Reading /home/atharvsagar/Documents/Neural-Representations-using-Things-Database/notebooks/../data/preprocessed/preprocessed_P2-epo.fif ...\n",
      "    Found the data of interest:\n",
      "        t =    -100.00 ...    1300.00 ms\n",
      "        0 CTF compensation matrices available\n",
      "Adding metadata with 18 columns\n",
      "27048 matching events found\n",
      "No baseline correction applied\n",
      "0 projection items activated\n",
      "Reading /home/atharvsagar/Documents/Neural-Representations-using-Things-Database/notebooks/../data/preprocessed/preprocessed_P3-epo.fif ...\n",
      "    Found the data of interest:\n",
      "        t =    -100.00 ...    1300.00 ms\n",
      "        0 CTF compensation matrices available\n",
      "Reading /home/atharvsagar/Documents/Neural-Representations-using-Things-Database/notebooks/../data/preprocessed/preprocessed_P3-epo.fif ...\n",
      "    Found the data of interest:\n",
      "        t =    -100.00 ...    1300.00 ms\n",
      "        0 CTF compensation matrices available\n",
      "Reading /home/atharvsagar/Documents/Neural-Representations-using-Things-Database/notebooks/../data/preprocessed/preprocessed_P3-epo.fif ...\n",
      "    Found the data of interest:\n",
      "        t =    -100.00 ...    1300.00 ms\n",
      "        0 CTF compensation matrices available\n",
      "Reading /home/atharvsagar/Documents/Neural-Representations-using-Things-Database/notebooks/../data/preprocessed/preprocessed_P3-epo.fif ...\n",
      "    Found the data of interest:\n",
      "        t =    -100.00 ...    1300.00 ms\n",
      "        0 CTF compensation matrices available\n",
      "Adding metadata with 18 columns\n",
      "27048 matching events found\n",
      "No baseline correction applied\n",
      "0 projection items activated\n",
      "Reading /home/atharvsagar/Documents/Neural-Representations-using-Things-Database/notebooks/../data/preprocessed/preprocessed_P4-epo.fif ...\n",
      "    Found the data of interest:\n",
      "        t =    -100.00 ...    1300.00 ms\n",
      "        0 CTF compensation matrices available\n",
      "Reading /home/atharvsagar/Documents/Neural-Representations-using-Things-Database/notebooks/../data/preprocessed/preprocessed_P4-epo.fif ...\n",
      "    Found the data of interest:\n",
      "        t =    -100.00 ...    1300.00 ms\n",
      "        0 CTF compensation matrices available\n",
      "Reading /home/atharvsagar/Documents/Neural-Representations-using-Things-Database/notebooks/../data/preprocessed/preprocessed_P4-epo.fif ...\n",
      "    Found the data of interest:\n",
      "        t =    -100.00 ...    1300.00 ms\n",
      "        0 CTF compensation matrices available\n",
      "Reading /home/atharvsagar/Documents/Neural-Representations-using-Things-Database/notebooks/../data/preprocessed/preprocessed_P4-epo.fif ...\n",
      "    Found the data of interest:\n",
      "        t =    -100.00 ...    1300.00 ms\n",
      "        0 CTF compensation matrices available\n",
      "Adding metadata with 18 columns\n",
      "27048 matching events found\n",
      "No baseline correction applied\n",
      "0 projection items activated\n"
     ]
    }
   ],
   "source": [
    "all_epochs = load_epochs(preproc_dir)\n",
    "n_sessions = 12\n",
    "# plot_erfs(all_epochs[1],n_sessions,'O')\n",
    "epochs = all_epochs[participant_no]"
   ]
  },
  {
   "cell_type": "code",
   "execution_count": 6,
   "metadata": {},
   "outputs": [
    {
     "name": "stdout",
     "output_type": "stream",
     "text": [
      "O ['O', 'T', 'P']\n",
      "Loading data for 22248 events and 281 original time points ...\n",
      "NOTE: pick_channels() is a legacy function. New code should use inst.pick(...).\n"
     ]
    }
   ],
   "source": [
    "time_points = epochs.times\n",
    "name = channel_picks[0]\n",
    "print(name, channel_picks)\n",
    "# ctf_layout = mne.find_layout(epochs.info)\n",
    "picks_epochs = [epochs.ch_names[i] for i in np.where([s[2]==name for s in epochs.ch_names])[0]]\n",
    "ep1 = epochs[epochs.metadata['trial_type']=='exp']  \n",
    "ep1.load_data()\n",
    "if OPTICAL_CHANNELS:\n",
    "    NOS_CHANNELS_OPT = 39\n",
    "    ep1.pick_channels(ch_names=picks_epochs); # supress output\n",
    "else:\n",
    "    NOS_CHANNELS_OPT = 271"
   ]
  },
  {
   "cell_type": "code",
   "execution_count": 7,
   "metadata": {},
   "outputs": [],
   "source": [
    "# Initialize the concept_epochs array with zeros\n",
    "concept_epochs = np.zeros((NOS_IMAGE_PER_CONCEPT, NOS_CONCEPTS, NOS_TIME_POINTS, NOS_CHANNELS_OPT))\n",
    "category_nrs = ep1.metadata['category_nr'].to_numpy()\n",
    "session_nrs = ep1.metadata['session_nr'].to_numpy()\n",
    "\n",
    "# Precompute masks for categories and sessions\n",
    "category_masks = [(category_nrs == (cat_nr + 1)) for cat_nr in range(NOS_CONCEPTS)]\n",
    "session_masks = [(session_nrs == (img_nr + 1)) for img_nr in range(NOS_IMAGE_PER_CONCEPT)]\n",
    "\n",
    "# Fill concept_epochs efficiently\n",
    "for category_nr, category_mask in enumerate(category_masks):\n",
    "    for img_nr, session_mask in enumerate(session_masks):\n",
    "        mask = category_mask & session_mask\n",
    "        concept_epochs[img_nr, category_nr, :, :] = ep1._data[mask].transpose(0, 2, 1)"
   ]
  },
  {
   "cell_type": "code",
   "execution_count": 8,
   "metadata": {},
   "outputs": [
    {
     "name": "stdout",
     "output_type": "stream",
     "text": [
      "161\n",
      "(1854, 161, 39) (12, 1854, 161, 39)\n"
     ]
    }
   ],
   "source": [
    "\n",
    "concept_epochs = concept_epochs[:, :, (time_points >= time_window[0]) & (time_points <= time_window[1]), :]\n",
    "time_points = time_points[(time_points >= time_window[0]) & (time_points <= time_window[1])]\n",
    "NOS_TIME_POINTS = concept_epochs.shape[2]\n",
    "print(NOS_TIME_POINTS)\n",
    "average_concept_epochs = concept_epochs.mean(axis = 0)\n",
    "print(average_concept_epochs.shape, concept_epochs.shape)\n"
   ]
  },
  {
   "cell_type": "code",
   "execution_count": 9,
   "metadata": {},
   "outputs": [
    {
     "name": "stdout",
     "output_type": "stream",
     "text": [
      "(1854, 6279)\n"
     ]
    }
   ],
   "source": [
    "\n",
    "temp = average_concept_epochs[:,:,:] - average_concept_epochs.mean(axis = (0,1)) # making sure each channel is centered\n",
    "# set outlier points to max value \n",
    "dev = 5*np.std(temp)\n",
    "temp[temp > dev] = dev\n",
    "temp[temp < - dev] = - dev\n",
    "temp = temp - np.min(temp)\n",
    "# plt.hist(temp.flatten(), bins = 100)\n",
    "# plt.title(\"Histogram of reshaped data\")\n",
    "# plt.show()\n",
    "X = temp.transpose(0,2,1).reshape(NOS_CONCEPTS, NOS_TIME_POINTS * NOS_CHANNELS_OPT) \n",
    "X = X - X.min()\n",
    "print(X.shape) \n"
   ]
  },
  {
   "cell_type": "markdown",
   "metadata": {},
   "source": [
    "Finding how many components are optimum using BIC"
   ]
  },
  {
   "cell_type": "code",
   "execution_count": 10,
   "metadata": {},
   "outputs": [],
   "source": [
    "# # finding BIC criterion for different number of components  \n",
    "# nos_components = [5, 10, 15, 20, 25, 50, 100]\n",
    "# bic = []\n",
    "# mean_correlations_array = []\n",
    "# for k in nos_components:\n",
    "#     W, H, mean_correlations = consensus_nmf_W(X, n_components=k, n_replicates=nos_seeds, p=0.3, tau=0.1, random_state=random_state, bayesian=BAYESIAN)  \n",
    "#     mean_correlations_array.append(mean_correlations)\n",
    "#     bic.append(compute_bic(X, W, H))\n",
    "\n",
    "# # plot BIC criterion vs components\n",
    "# plt.plot(nos_components, bic)\n",
    "# plt.xlabel('Number of components')  \n",
    "# plt.ylabel('BIC')       \n",
    "# plt.title(f'Subject:{participant_no} | Nos seeds:{nos_seeds} | Bayesian:{BAYESIAN}')\n",
    "# plt.show()"
   ]
  },
  {
   "cell_type": "markdown",
   "metadata": {},
   "source": [
    "### Consensus NMF "
   ]
  },
  {
   "cell_type": "code",
   "execution_count": 11,
   "metadata": {},
   "outputs": [
    {
     "name": "stderr",
     "output_type": "stream",
     "text": [
      "/home/atharvsagar/anaconda3/lib/python3.12/site-packages/sklearn/decomposition/_nmf.py:1759: ConvergenceWarning: Maximum number of iterations 800 reached. Increase it to improve convergence.\n",
      "  warnings.warn(\n",
      "/home/atharvsagar/anaconda3/lib/python3.12/site-packages/sklearn/decomposition/_nmf.py:1759: ConvergenceWarning: Maximum number of iterations 800 reached. Increase it to improve convergence.\n",
      "  warnings.warn(\n",
      "/home/atharvsagar/anaconda3/lib/python3.12/site-packages/sklearn/decomposition/_nmf.py:1759: ConvergenceWarning: Maximum number of iterations 800 reached. Increase it to improve convergence.\n",
      "  warnings.warn(\n",
      "/home/atharvsagar/anaconda3/lib/python3.12/site-packages/sklearn/decomposition/_nmf.py:1759: ConvergenceWarning: Maximum number of iterations 800 reached. Increase it to improve convergence.\n",
      "  warnings.warn(\n",
      "/home/atharvsagar/anaconda3/lib/python3.12/site-packages/sklearn/decomposition/_nmf.py:1759: ConvergenceWarning: Maximum number of iterations 800 reached. Increase it to improve convergence.\n",
      "  warnings.warn(\n"
     ]
    },
    {
     "name": "stdout",
     "output_type": "stream",
     "text": [
      "k = 0 Mean pairwise correlation: 0.5414613382461778\n",
      "k = 1 Mean pairwise correlation: 0.09295677351533478\n",
      "k = 2 Mean pairwise correlation: 0.4571892645194537\n",
      "k = 3 Mean pairwise correlation: 0.3751467891275279\n",
      "k = 4 Mean pairwise correlation: 0.4925646483546829\n",
      "k = 5 Mean pairwise correlation: 0.77175966662675\n",
      "k = 6 Mean pairwise correlation: 0.36209315359225086\n",
      "k = 7 Singleton cluster\n",
      "k = 8 Mean pairwise correlation: 0.34248857446328457\n",
      "k = 9 Mean pairwise correlation: 0.2431221823685366\n",
      "k = 10 Mean pairwise correlation: 0.4909873324249393\n",
      "k = 11 Singleton cluster\n",
      "k = 12 Mean pairwise correlation: 0.5023846036474677\n",
      "k = 13 Mean pairwise correlation: 0.6745995888369476\n",
      "k = 14 Mean pairwise correlation: 0.32734205357909046\n",
      "k = 15 Mean pairwise correlation: 0.22376624545239246\n",
      "k = 16 Mean pairwise correlation: 0.4433648798779547\n",
      "k = 17 Singleton cluster\n",
      "k = 18 Singleton cluster\n",
      "k = 19 Singleton cluster\n",
      "(1854, 20) (20, 6279)\n"
     ]
    }
   ],
   "source": [
    "W, H, mean_correlation = consensus_nmf_W(X, n_components=nmf_components, n_replicates=nos_seeds, p=0.3, tau=1, random_state=random_state)\n",
    "print(W.shape, H.shape)"
   ]
  },
  {
   "cell_type": "code",
   "execution_count": 12,
   "metadata": {},
   "outputs": [
    {
     "data": {
      "image/png": "[encoded data removed]",
      "text/plain": [
       "<Figure size 640x480 with 1 Axes>"
      ]
     },
     "metadata": {},
     "output_type": "display_data"
    }
   ],
   "source": [
    "# plot mean correlations sorted ascending\n",
    "mean_correlation = np.array(mean_correlation)\n",
    "mean_correlation_sorted_indices = np.argsort(mean_correlation)[::-1]\n",
    "components = np.arange(nmf_components)\n",
    "plt.plot(mean_correlation[mean_correlation_sorted_indices], 'o-')   \n",
    "plt.xticks(np.arange(nmf_components), mean_correlation_sorted_indices)\n",
    "plt.xlabel('Components')\n",
    "plt.ylabel('Mean internal correlation')\n",
    "plt.title(f'Subject:{participant_no} | Nos seeds:{nos_seeds} | Bayesian:{BAYESIAN}')    \n",
    "plt.show()\n"
   ]
  },
  {
   "cell_type": "code",
   "execution_count": 21,
   "metadata": {},
   "outputs": [
    {
     "data": {
      "text/plain": [
       "array([[0.06128385, 0.03239641, 0.06470236, ..., 0.05258116, 0.08898449,\n",
       "        0.03592873],\n",
       "       [0.07007831, 0.02979361, 0.04084001, ..., 0.05230937, 0.08413202,\n",
       "        0.06927432],\n",
       "       [0.06147993, 0.02565605, 0.06548646, ..., 0.084549  , 0.08691893,\n",
       "        0.06362015],\n",
       "       ...,\n",
       "       [0.07423259, 0.04908914, 0.08245984, ..., 0.02085558, 0.00829139,\n",
       "        0.13786653],\n",
       "       [0.03629392, 0.0239775 , 0.07900441, ..., 0.05497158, 0.05197102,\n",
       "        0.09872393],\n",
       "       [0.034479  , 0.01784708, 0.09330422, ..., 0.0880342 , 0.03484627,\n",
       "        0.11152082]])"
      ]
     },
     "execution_count": 21,
     "metadata": {},
     "output_type": "execute_result"
    }
   ],
   "source": [
    "W"
   ]
  },
  {
   "cell_type": "code",
   "execution_count": 13,
   "metadata": {},
   "outputs": [],
   "source": [
    "\n",
    "# nmf_components_vs_category = np.zeros((nmf_components, images_to_show))\n",
    "# for i in range(nmf_components):\n",
    "#     sorted_indices = np.argsort(W[:,i])\n",
    "#     print(f'Categories which are best on component {i} are: {sorted_indices[-images_to_show:]}')\n",
    "#     nmf_components_vs_category[i,:] = sorted_indices[-images_to_show:]\n",
    "# # plot images for the top 5 categories for each component  \n",
    "# category_array_name = []\n",
    "# for component in mean_correlation_sorted_indices:\n",
    "#     if component > 20:\n",
    "#         break\n",
    "#     print(f\"Component {component} is best loaded by the following image categories:\")\n",
    "#     category_array = []\n",
    "#     fig, axs = plt.subplots(1, images_to_show, figsize=(40, 40))\n",
    "#     for i in range(images_to_show):\n",
    "#         category_nr = nmf_components_vs_category[component, i] \n",
    "#         # Get the image paths for the given category_nr\n",
    "#         image_paths = epochs.metadata[(epochs.metadata['category_nr'] == category_nr+1) & (epochs.metadata['trial_type'] == 'exp')]['image_path']\n",
    "#         image_path = image_paths.iloc[0]\n",
    "#         image_path = f'{image_dir}{image_path}'\n",
    "#         img = mpimg.imread(image_path)\n",
    "#         category_array.append(image_path.split('/')[-2])\n",
    "#         axs[i].imshow(img)\n",
    "#         axs[i].set_title(f\"Category {category_nr}\")\n",
    "#         axs[i].axis('off')\n",
    "#     plt.show()\n",
    "#     category_array_name.append(category_array)"
   ]
  },
  {
   "cell_type": "code",
   "execution_count": 14,
   "metadata": {},
   "outputs": [
    {
     "ename": "SystemExit",
     "evalue": "Stop here",
     "output_type": "error",
     "traceback": [
      "An exception has occurred, use %tb to see the full traceback.\n",
      "\u001b[0;31mSystemExit\u001b[0m\u001b[0;31m:\u001b[0m Stop here\n"
     ]
    },
    {
     "name": "stderr",
     "output_type": "stream",
     "text": [
      "/home/atharvsagar/anaconda3/lib/python3.12/site-packages/IPython/core/interactiveshell.py:3585: UserWarning: To exit: use 'exit', 'quit', or Ctrl-D.\n",
      "  warn(\"To exit: use 'exit', 'quit', or Ctrl-D.\", stacklevel=1)\n"
     ]
    }
   ],
   "source": [
    "raise SystemExit(\"Stop here\")"
   ]
  },
  {
   "cell_type": "markdown",
   "metadata": {},
   "source": [
    "### Time dynamics\n",
    "To see how each component evolves with time"
   ]
  },
  {
   "cell_type": "code",
   "execution_count": null,
   "metadata": {},
   "outputs": [
    {
     "name": "stdout",
     "output_type": "stream",
     "text": [
      "(6279, 5)\n"
     ]
    }
   ],
   "source": [
    "# print(H.shape)\n",
    "# comp_vs_time = H.reshape(nmf_components, NOS_CHANNELS_OPT, NOS_TIME_POINTS)"
   ]
  },
  {
   "cell_type": "code",
   "execution_count": null,
   "metadata": {},
   "outputs": [],
   "source": [
    "   \n",
    "# plt.figure(figsize=(20, 5)) \n",
    "# # plt.plot(time_points, average_concept_epochs[0, :, 0], label = 'original data', linewidth=2)\n",
    "# # plt.plot(time_points, comp_vs_time[:, 0,:].sum(axis=0), label = 'NMF reconstruction', linewidth=2)\n",
    "# for i in range(nmf_components):\n",
    "#     plt.plot(time_points, comp_vs_time[i, 0,:], alpha=0.5, label=f'Component {i}')   \n",
    "#     # plt.plot(time_points, comp_vs_time[i, 0,:] - comp_vs_time[i,0,:20].mean(), alpha=0.2, label=f'Component {i}')\n",
    "# plt.title(f\"Components vs time for participant {participant_no} and seed {random_state}\")\n",
    "# plt.xlabel(\"Time\")\n",
    "# plt.ylabel(\"Component value\")\n",
    "# plt.legend()\n",
    "# plt.show()"
   ]
  },
  {
   "cell_type": "code",
   "execution_count": null,
   "metadata": {},
   "outputs": [],
   "source": [
    "# plt.figure(figsize=(20, 5)) \n",
    "# plt.plot(time_points, comp_vs_time[:, 0,:].sum(axis = 0 ), alpha=0.5, label=f'Component sum')\n",
    "# plt.show()"
   ]
  },
  {
   "cell_type": "markdown",
   "metadata": {},
   "source": [
    "### Performing NNLS"
   ]
  },
  {
   "cell_type": "code",
   "execution_count": null,
   "metadata": {},
   "outputs": [],
   "source": [
    "# print(X.shape, W.shape) \n",
    "# # reshape X to 3D\n",
    "# X_scaled = X.reshape(NOS_CONCEPTS, NOS_CHANNELS_OPT, NOS_TIME_POINTS)\n",
    "# # divide W by max value of each channel\n",
    "# W_scaled = W / W.max(axis=0)\n",
    "# nnls_results = np.zeros((nmf_components, NOS_CHANNELS_OPT, NOS_TIME_POINTS))    \n",
    "# for channel in range(NOS_CHANNELS_OPT):\n",
    "#     for t in range(NOS_TIME_POINTS):\n",
    "#         nnls_results[:, channel, t] = nnls(W, X_scaled[:,channel,t])[0]\n",
    "\n",
    "# print(nnls_results.shape)"
   ]
  },
  {
   "cell_type": "code",
   "execution_count": null,
   "metadata": {},
   "outputs": [],
   "source": [
    "# # --- Example Plot ---\n",
    "# # Plot the NNLS coefficient time series for channel 0 for all components.\n",
    "# time_points = np.arange(NOS_TIME_POINTS)\n",
    "# plt.figure(figsize=(20, 5))\n",
    "# for comp in range(nmf_components):\n",
    "#     plt.plot(time_points, nnls_results[comp, 0, :], alpha=0.7, label=f\"Component {comp}\")\n",
    "# plt.title(\"NNLS Coefficients Over Time for Channel 0 (Locally Scaled)\")\n",
    "# plt.xlabel(\"Time (ms)\")\n",
    "# plt.ylabel(\"Coefficient (scaled)\")\n",
    "# plt.legend()\n",
    "# plt.show()"
   ]
  }
 ],
 "metadata": {
  "kernelspec": {
   "display_name": "base",
   "language": "python",
   "name": "python3"
  },
  "language_info": {
   "codemirror_mode": {
    "name": "ipython",
    "version": 3
   },
   "file_extension": ".py",
   "mimetype": "text/x-python",
   "name": "python",
   "nbconvert_exporter": "python",
   "pygments_lexer": "ipython3",
   "version": "3.12.7"
  }
 },
 "nbformat": 4,
 "nbformat_minor": 2
}
